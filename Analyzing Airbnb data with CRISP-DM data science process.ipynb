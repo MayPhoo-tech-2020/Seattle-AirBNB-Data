{
 "cells": [
  {
   "cell_type": "code",
   "execution_count": 79,
   "metadata": {},
   "outputs": [],
   "source": [
    "import numpy as np\n",
    "import pandas as pd\n",
    "import matplotlib.pyplot as plt\n",
    "import seaborn as sns\n",
    "from sklearn.linear_model import LinearRegression\n",
    "from sklearn.model_selection import train_test_split\n",
    "from sklearn.metrics import r2_score\n",
    "%matplotlib inline"
   ]
  },
  {
   "cell_type": "markdown",
   "metadata": {},
   "source": [
    "## Business and Data Understanding\n",
    "- How should you start to host on Airbnb?\n",
    "- How should you prepare your room?\n",
    "- Which type of cancellation policy is mostly used?\n",
    "\n",
    "I will be using the Airbnb data to get some insight into each of these questions."
   ]
  },
  {
   "cell_type": "markdown",
   "metadata": {},
   "source": [
    "# Data Preparation"
   ]
  },
  {
   "cell_type": "code",
   "execution_count": 80,
   "metadata": {},
   "outputs": [],
   "source": [
    "#This function will assist to retrieve columns with greater than percent of missing values function\n",
    "def drop_columns_rows(df, percent_missing_value):\n",
    "    '''\n",
    "    INPUT:\n",
    "    df - the pandas dataframe of listings.csv file\n",
    "    percent_missing_value - the missing percentage amount of dataframe\n",
    "    \n",
    "    OUTPUT:\n",
    "    column_names - column names with with greater than percent_missing_value\n",
    "    '''\n",
    "    #Drop rows with all missing values\n",
    "    df = df.dropna(how='all', axis=0)\n",
    "    column_names = df[df.columns\n",
    "                   [df.isnull().mean() > percent_missing_value]]\n",
    "    return column_names\n"
   ]
  },
  {
   "cell_type": "code",
   "execution_count": 81,
   "metadata": {},
   "outputs": [],
   "source": [
    "def sum_columns_values(dataframe_name):\n",
    "    sum_columns_value = dataframe_name.sum(axis=0)\n",
    "    return sum_columns_value"
   ]
  },
  {
   "cell_type": "code",
   "execution_count": 82,
   "metadata": {},
   "outputs": [],
   "source": [
    "def sum_row_values(dataframe_name):\n",
    "    sum_row_values = dataframe_name.sum(axis=1)\n",
    "    return sum_row_values"
   ]
  },
  {
   "cell_type": "code",
   "execution_count": 83,
   "metadata": {},
   "outputs": [],
   "source": [
    "listings_df = pd.read_csv(\"./listings.csv\")"
   ]
  },
  {
   "cell_type": "code",
   "execution_count": 84,
   "metadata": {},
   "outputs": [],
   "source": [
    "room_type_set = set(listings_df['room_type'])"
   ]
  },
  {
   "cell_type": "code",
   "execution_count": 85,
   "metadata": {},
   "outputs": [],
   "source": [
    "entire_home_df = listings_df.query(\"room_type=='Entire home/apt'\")['reviews_per_month']"
   ]
  },
  {
   "cell_type": "code",
   "execution_count": 86,
   "metadata": {},
   "outputs": [],
   "source": [
    "private_home_df = listings_df.query(\"room_type=='Private room'\")['reviews_per_month']"
   ]
  },
  {
   "cell_type": "code",
   "execution_count": 87,
   "metadata": {},
   "outputs": [],
   "source": [
    "shared_home_df = listings_df.query(\"room_type=='Shared room'\")['reviews_per_month']"
   ]
  },
  {
   "cell_type": "markdown",
   "metadata": {},
   "source": [
    " ## 1. How do you start to host on Airbnb?"
   ]
  },
  {
   "cell_type": "code",
   "execution_count": 88,
   "metadata": {},
   "outputs": [
    {
     "data": {
      "image/png": "[encoded data removed]",
      "text/plain": [
       "<Figure size 1080x360 with 1 Axes>"
      ]
     },
     "metadata": {
      "needs_background": "light"
     },
     "output_type": "display_data"
    }
   ],
   "source": [
    "#Make a plot by room_type with their total review count\n",
    "plt.figure(figsize=(15,5))\n",
    "plt.subplot(132)\n",
    "plt.xlabel('Room type')\n",
    "plt.ylabel('Total Review Count')\n",
    "list_room_type_df = ['Entire home/apt','Private room','Shared room']\n",
    "list_reviews_total = [sum_columns_values(entire_home_df),\n",
    "                      sum_columns_values(private_home_df),\n",
    "                      sum_columns_values(shared_home_df)]\n",
    "plt.bar(list_room_type_df,list_reviews_total,color=plt.cm.Paired(np.arange(len(list_room_type_df))))\n",
    "plt.show()"
   ]
  },
  {
   "cell_type": "markdown",
   "metadata": {},
   "source": [
    "## 2. How should you prepare your room?"
   ]
  },
  {
   "cell_type": "code",
   "execution_count": 89,
   "metadata": {},
   "outputs": [],
   "source": [
    "#a panda series of the counts for each bed type \n",
    "bed_type_valus = listings_df.bed_type.value_counts()"
   ]
  },
  {
   "cell_type": "code",
   "execution_count": 90,
   "metadata": {},
   "outputs": [
    {
     "data": {
      "image/png": "[encoded data removed]",
      "text/plain": [
       "<Figure size 432x288 with 1 Axes>"
      ]
     },
     "metadata": {
      "needs_background": "light"
     },
     "output_type": "display_data"
    }
   ],
   "source": [
    "#The bar chart describe the proportion of individuals in bed_type_valus\n",
    "(bed_type_valus/listings_df.shape[0]).plot(kind=\"bar\",color=plt.cm.Paired(np.arange(len(list_room_type_df))));\n",
    "plt.title(\"Which bed types are mostly used?\");"
   ]
  },
  {
   "cell_type": "markdown",
   "metadata": {},
   "source": [
    "## 3. Which type of cancellation policy is mostly used?"
   ]
  },
  {
   "cell_type": "code",
   "execution_count": 91,
   "metadata": {},
   "outputs": [],
   "source": [
    "#a panda series of the counts for each cancellation policy\n",
    "cancellation_policy_type_valus = listings_df.cancellation_policy.value_counts()"
   ]
  },
  {
   "cell_type": "code",
   "execution_count": 92,
   "metadata": {},
   "outputs": [
    {
     "data": {
      "image/png": "[encoded data removed]",
      "text/plain": [
       "<Figure size 432x288 with 1 Axes>"
      ]
     },
     "metadata": {
      "needs_background": "light"
     },
     "output_type": "display_data"
    }
   ],
   "source": [
    "#The bar chart describe the proportion of individuals in cancellation_policy_type_valus\n",
    "(cancellation_policy_type_valus/listings_df.shape[0]).plot(kind=\"bar\",color=plt.cm.Paired(np.arange(len(list_room_type_df))));\n",
    "plt.title(\"Which cancellation_policy is mostly used?\");"
   ]
  },
  {
   "cell_type": "code",
   "execution_count": 93,
   "metadata": {},
   "outputs": [
    {
     "name": "stdout",
     "output_type": "stream",
     "text": [
      "<class 'pandas.core.frame.DataFrame'>\n",
      "RangeIndex: 3818 entries, 0 to 3817\n",
      "Data columns (total 90 columns):\n",
      " #   Column                            Non-Null Count  Dtype  \n",
      "---  ------                            --------------  -----  \n",
      " 0   id                                3818 non-null   int64  \n",
      " 1   listing_url                       3818 non-null   object \n",
      " 2   scrape_id                         3818 non-null   int64  \n",
      " 3   last_scraped                      3818 non-null   object \n",
      " 4   name                              3818 non-null   object \n",
      " 5   summary                           3641 non-null   object \n",
      " 6   space                             3249 non-null   object \n",
      " 7   description                       3818 non-null   object \n",
      " 8   experiences_offered               3818 non-null   object \n",
      " 9   neighborhood_overview             2786 non-null   object \n",
      " 10  notes                             2212 non-null   object \n",
      " 11  transit                           2884 non-null   object \n",
      " 12  thumbnail_url                     3498 non-null   object \n",
      " 13  medium_url                        3498 non-null   object \n",
      " 14  picture_url                       3818 non-null   object \n",
      " 15  xl_picture_url                    3498 non-null   object \n",
      " 16  host_id                           3818 non-null   int64  \n",
      " 17  host_url                          3818 non-null   object \n",
      " 18  host_name                         3816 non-null   object \n",
      " 19  host_since                        3816 non-null   object \n",
      " 20  host_location                     3810 non-null   object \n",
      " 21  host_about                        2959 non-null   object \n",
      " 22  host_response_time                3295 non-null   object \n",
      " 23  host_response_rate                3295 non-null   object \n",
      " 24  host_acceptance_rate              3045 non-null   object \n",
      " 25  host_is_superhost                 3816 non-null   object \n",
      " 26  host_thumbnail_url                3816 non-null   object \n",
      " 27  host_picture_url                  3816 non-null   object \n",
      " 28  host_neighbourhood                3518 non-null   object \n",
      " 29  host_listings_count               3816 non-null   float64\n",
      " 30  host_total_listings_count         3816 non-null   float64\n",
      " 31  host_verifications                3818 non-null   object \n",
      " 32  host_has_profile_pic              3816 non-null   object \n",
      " 33  host_identity_verified            3816 non-null   object \n",
      " 34  street                            3818 non-null   object \n",
      " 35  neighbourhood                     3402 non-null   object \n",
      " 36  neighbourhood_cleansed            3818 non-null   object \n",
      " 37  neighbourhood_group_cleansed      3818 non-null   object \n",
      " 38  city                              3818 non-null   object \n",
      " 39  state                             3818 non-null   object \n",
      " 40  zipcode                           3811 non-null   object \n",
      " 41  market                            3818 non-null   object \n",
      " 42  smart_location                    3818 non-null   object \n",
      " 43  country_code                      3818 non-null   object \n",
      " 44  country                           3818 non-null   object \n",
      " 45  latitude                          3818 non-null   float64\n",
      " 46  longitude                         3818 non-null   float64\n",
      " 47  is_location_exact                 3818 non-null   object \n",
      " 48  property_type                     3817 non-null   object \n",
      " 49  room_type                         3818 non-null   object \n",
      " 50  accommodates                      3818 non-null   int64  \n",
      " 51  bathrooms                         3802 non-null   float64\n",
      " 52  bedrooms                          3812 non-null   float64\n",
      " 53  beds                              3817 non-null   float64\n",
      " 54  bed_type                          3818 non-null   object \n",
      " 55  amenities                         3818 non-null   object \n",
      " 56  price                             3818 non-null   float64\n",
      " 57  weekly_price                      2009 non-null   float64\n",
      " 58  monthly_price                     1517 non-null   float64\n",
      " 59  security_deposit                  1866 non-null   object \n",
      " 60  cleaning_fee                      2788 non-null   object \n",
      " 61  guests_included                   3818 non-null   int64  \n",
      " 62  extra_people                      3818 non-null   object \n",
      " 63  minimum_nights                    3818 non-null   int64  \n",
      " 64  maximum_nights                    3818 non-null   int64  \n",
      " 65  calendar_updated                  3818 non-null   object \n",
      " 66  has_availability                  3818 non-null   object \n",
      " 67  availability_30                   3818 non-null   int64  \n",
      " 68  availability_60                   3818 non-null   int64  \n",
      " 69  availability_90                   3818 non-null   int64  \n",
      " 70  availability_365                  3818 non-null   int64  \n",
      " 71  calendar_last_scraped             3818 non-null   object \n",
      " 72  number_of_reviews                 3818 non-null   int64  \n",
      " 73  first_review                      3191 non-null   object \n",
      " 74  last_review                       3191 non-null   object \n",
      " 75  review_scores_rating              3171 non-null   float64\n",
      " 76  review_scores_accuracy            3160 non-null   float64\n",
      " 77  review_scores_cleanliness         3165 non-null   float64\n",
      " 78  review_scores_checkin             3160 non-null   float64\n",
      " 79  review_scores_communication       3167 non-null   float64\n",
      " 80  review_scores_location            3163 non-null   float64\n",
      " 81  review_scores_value               3162 non-null   float64\n",
      " 82  requires_license                  3818 non-null   object \n",
      " 83  jurisdiction_names                3818 non-null   object \n",
      " 84  instant_bookable                  3818 non-null   object \n",
      " 85  cancellation_policy               3818 non-null   object \n",
      " 86  require_guest_profile_picture     3818 non-null   object \n",
      " 87  require_guest_phone_verification  3818 non-null   object \n",
      " 88  calculated_host_listings_count    3818 non-null   int64  \n",
      " 89  reviews_per_month                 3191 non-null   float64\n",
      "dtypes: float64(18), int64(13), object(59)\n",
      "memory usage: 2.6+ MB\n"
     ]
    }
   ],
   "source": [
    "#Drop missing coloumns with 90 percent missing value and rows with missing all values\n",
    "listings_df = pd.read_csv(\"./listings.csv\")\n",
    "listings_df.drop(columns = drop_columns_rows(listings_df,0.9) , inplace=True)\n",
    "remove_char_list = ['$',',']\n",
    "for remove_char in remove_char_list:\n",
    "    listings_df['weekly_price'] = listings_df['weekly_price'].str.replace(remove_char,'')\n",
    "    listings_df['monthly_price'] = listings_df['monthly_price'].str.replace(remove_char,'')\n",
    "    listings_df['price'] = listings_df['price'].str.replace(remove_char,'')\n",
    "listings_df['weekly_price'] = listings_df['weekly_price'].astype(float)\n",
    "listings_df['monthly_price'] = listings_df['monthly_price'].astype(float)\n",
    "listings_df['price'] = listings_df['price'].astype(float)\n",
    "listings_df.info()"
   ]
  },
  {
   "cell_type": "code",
   "execution_count": 94,
   "metadata": {},
   "outputs": [],
   "source": [
    "num_vars = listings_df[['price','weekly_price','monthly_price']].head(10)\n",
    "df_dropna = num_vars.dropna(axis=0)\n",
    "X = df_dropna[['weekly_price','monthly_price']]\n",
    "y = df_dropna['price']\n",
    "X_train, X_test, y_train, y_test = train_test_split(X, y, test_size = .30, random_state=42)\n",
    "lm_model = LinearRegression(normalize=True)\n",
    "lm_model.fit(X_train, y_train)\n",
    "y_test_preds = lm_model.predict(X_test)"
   ]
  },
  {
   "cell_type": "code",
   "execution_count": null,
   "metadata": {},
   "outputs": [],
   "source": []
  },
  {
   "cell_type": "code",
   "execution_count": null,
   "metadata": {},
   "outputs": [],
   "source": []
  }
 ],
 "metadata": {
  "kernelspec": {
   "display_name": "Python 3",
   "language": "python",
   "name": "python3"
  },
  "language_info": {
   "codemirror_mode": {
    "name": "ipython",
    "version": 3
   },
   "file_extension": ".py",
   "mimetype": "text/x-python",
   "name": "python",
   "nbconvert_exporter": "python",
   "pygments_lexer": "ipython3",
   "version": "3.8.3"
  }
 },
 "nbformat": 4,
 "nbformat_minor": 4
}
