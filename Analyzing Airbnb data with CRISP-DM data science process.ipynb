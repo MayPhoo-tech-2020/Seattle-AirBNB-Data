{
 "cells": [
  {
   "cell_type": "code",
   "execution_count": 2,
   "metadata": {},
   "outputs": [],
   "source": [
    "import numpy as np\n",
    "import pandas as pd\n",
    "import matplotlib.pyplot as plt\n",
    "import seaborn as sns\n",
    "from sklearn.linear_model import LinearRegression\n",
    "from sklearn.model_selection import train_test_split\n",
    "from sklearn.metrics import r2_score\n",
    "%matplotlib inline"
   ]
  },
  {
   "cell_type": "markdown",
   "metadata": {},
   "source": [
    "## Business and Data Understanding\n",
    "- How should you start to host on Airbnb?\n",
    "- How should you prepare your room?\n",
    "- Which type of cancellation policy is mostly used?\n",
    "\n",
    "I will be using the Airbnb data to get some insight into each of these questions."
   ]
  },
  {
   "cell_type": "markdown",
   "metadata": {},
   "source": [
    "# Data Preparation"
   ]
  },
  {
   "cell_type": "code",
   "execution_count": 3,
   "metadata": {},
   "outputs": [],
   "source": [
    "#This function will assist to retrieve columns with greater than percent of missing values function\n",
    "def drop_columns_rows(df, percent_missing_value):\n",
    "    '''\n",
    "    INPUT:\n",
    "    df - the pandas dataframe of listings.csv file\n",
    "    percent_missing_value - the missing percentage amount of dataframe\n",
    "    \n",
    "    OUTPUT:\n",
    "    column_names - column names with with greater than percent_missing_value\n",
    "    '''\n",
    "    #Drop rows with all missing values\n",
    "    df = df.dropna(how='all', axis=0)\n",
    "    column_names = df[df.columns\n",
    "                   [df.isnull().mean() > percent_missing_value]]\n",
    "    return column_names\n"
   ]
  },
  {
   "cell_type": "code",
   "execution_count": 4,
   "metadata": {},
   "outputs": [],
   "source": [
    "def sum_columns_values(dataframe_name):\n",
    "    sum_columns_value = dataframe_name.sum(axis=0)\n",
    "    return sum_columns_value"
   ]
  },
  {
   "cell_type": "code",
   "execution_count": 5,
   "metadata": {},
   "outputs": [],
   "source": [
    "def sum_row_values(dataframe_name):\n",
    "    sum_row_values = dataframe_name.sum(axis=1)\n",
    "    return sum_row_values"
   ]
  },
  {
   "cell_type": "code",
   "execution_count": 6,
   "metadata": {},
   "outputs": [],
   "source": [
    "listings_df = pd.read_csv(\"./listings.csv\")"
   ]
  },
  {
   "cell_type": "markdown",
   "metadata": {},
   "source": [
    "We need to clean data"
   ]
  },
  {
   "cell_type": "code",
   "execution_count": 7,
   "metadata": {},
   "outputs": [],
   "source": [
    "#A column with greater than 90 percent missing value is a reason to drop it\n",
    "#In my opinion, a row with all null value of columns has no value to predict model\n",
    "#Drop missing coloumns with 90 percent missing value and rows with missing all values \n",
    "listings_df.drop(columns = drop_columns_rows(listings_df,0.9) , inplace=True)\n",
    "remove_char_list = ['$',',']\n",
    "for remove_char in remove_char_list:\n",
    "    listings_df['weekly_price'] = listings_df['weekly_price'].str.replace(remove_char,'')\n",
    "    listings_df['monthly_price'] = listings_df['monthly_price'].str.replace(remove_char,'')\n",
    "    listings_df['price'] = listings_df['price'].str.replace(remove_char,'')\n",
    "listings_df['weekly_price'] = listings_df['weekly_price'].astype(float)\n",
    "listings_df['monthly_price'] = listings_df['monthly_price'].astype(float)\n",
    "listings_df['price'] = listings_df['price'].astype(float)"
   ]
  },
  {
   "cell_type": "code",
   "execution_count": 8,
   "metadata": {},
   "outputs": [],
   "source": [
    "room_type_set = set(listings_df['room_type'])"
   ]
  },
  {
   "cell_type": "code",
   "execution_count": 9,
   "metadata": {},
   "outputs": [],
   "source": [
    "entire_home_df = listings_df.query(\"room_type=='Entire home/apt'\")['reviews_per_month']"
   ]
  },
  {
   "cell_type": "code",
   "execution_count": 10,
   "metadata": {},
   "outputs": [],
   "source": [
    "private_home_df = listings_df.query(\"room_type=='Private room'\")['reviews_per_month']"
   ]
  },
  {
   "cell_type": "code",
   "execution_count": 11,
   "metadata": {},
   "outputs": [],
   "source": [
    "shared_home_df = listings_df.query(\"room_type=='Shared room'\")['reviews_per_month']"
   ]
  },
  {
   "cell_type": "markdown",
   "metadata": {},
   "source": [
    " ## 1. How do you start to host on Airbnb?"
   ]
  },
  {
   "cell_type": "code",
   "execution_count": 12,
   "metadata": {},
   "outputs": [
    {
     "data": {
      "image/png": "[encoded data removed]",
      "text/plain": [
       "<Figure size 1080x360 with 1 Axes>"
      ]
     },
     "metadata": {
      "needs_background": "light"
     },
     "output_type": "display_data"
    }
   ],
   "source": [
    "#Make a plot by room_type with their total review count\n",
    "plt.figure(figsize=(15,5))\n",
    "plt.subplot(132)\n",
    "plt.xlabel('Room type')\n",
    "plt.ylabel('Total Review Count')\n",
    "list_room_type_df = ['Entire home/apt','Private room','Shared room']\n",
    "list_reviews_total = [sum_columns_values(entire_home_df),\n",
    "                      sum_columns_values(private_home_df),\n",
    "                      sum_columns_values(shared_home_df)]\n",
    "plt.bar(list_room_type_df,list_reviews_total,color=plt.cm.Paired(np.arange(len(list_room_type_df))))\n",
    "plt.show()"
   ]
  },
  {
   "cell_type": "markdown",
   "metadata": {},
   "source": [
    "As shown above in the bar chart, room type - 'Entire home/apt' got the highest total review count and room type - 'Shared room' got the lowest total review count. "
   ]
  },
  {
   "cell_type": "markdown",
   "metadata": {},
   "source": [
    "## 2. How should you prepare your room?"
   ]
  },
  {
   "cell_type": "code",
   "execution_count": 13,
   "metadata": {},
   "outputs": [],
   "source": [
    "#a panda series of the counts for each bed type \n",
    "bed_type_valus = listings_df.bed_type.value_counts()"
   ]
  },
  {
   "cell_type": "code",
   "execution_count": 14,
   "metadata": {},
   "outputs": [
    {
     "data": {
      "image/png": "[encoded data removed]",
      "text/plain": [
       "<Figure size 432x288 with 1 Axes>"
      ]
     },
     "metadata": {
      "needs_background": "light"
     },
     "output_type": "display_data"
    }
   ],
   "source": [
    "#The bar chart describe the proportion of individuals in bed_type_valus\n",
    "plt.xlabel('Bed Type')\n",
    "(bed_type_valus/listings_df.shape[0]).plot(kind=\"bar\",color=plt.cm.Paired(np.arange(len(list_room_type_df))));\n",
    "plt.title(\"Which bed types are mostly used?\");"
   ]
  },
  {
   "cell_type": "markdown",
   "metadata": {},
   "source": [
    "As shown above in the bar chart, bed type - 'Real Bed' is the mostly used to prepare their rooms."
   ]
  },
  {
   "cell_type": "markdown",
   "metadata": {},
   "source": [
    "## 3. Which type of cancellation policy is mostly used?"
   ]
  },
  {
   "cell_type": "code",
   "execution_count": 15,
   "metadata": {},
   "outputs": [],
   "source": [
    "#a panda series of the counts for each cancellation policy\n",
    "cancellation_policy_type_valus = listings_df.cancellation_policy.value_counts()"
   ]
  },
  {
   "cell_type": "code",
   "execution_count": 16,
   "metadata": {},
   "outputs": [
    {
     "data": {
      "image/png": "[encoded data removed]",
      "text/plain": [
       "<Figure size 432x288 with 1 Axes>"
      ]
     },
     "metadata": {
      "needs_background": "light"
     },
     "output_type": "display_data"
    }
   ],
   "source": [
    "#The bar chart describe the proportion of individuals in cancellation_policy_type_valus\n",
    "plt.xlabel('Cancellation Policy')\n",
    "(cancellation_policy_type_valus/listings_df.shape[0]).plot(kind=\"bar\",color=plt.cm.Paired(np.arange(len(list_room_type_df))));\n",
    "plt.title(\"Which cancellation_policy is mostly defined?\");"
   ]
  },
  {
   "cell_type": "markdown",
   "metadata": {},
   "source": [
    "As shown above in the bar chart, cancellation Policy - 'strict' is the mostly defined."
   ]
  },
  {
   "cell_type": "markdown",
   "metadata": {},
   "source": [
    "# 3. Data Modeling"
   ]
  },
  {
   "cell_type": "code",
   "execution_count": 17,
   "metadata": {},
   "outputs": [
    {
     "name": "stdout",
     "output_type": "stream",
     "text": [
      "0.36393940886893106\n"
     ]
    }
   ],
   "source": [
    "#Only use price variables\n",
    "num_vars = listings_df[['price','weekly_price','monthly_price']]\n",
    "# Mean function \n",
    "fill_mean = lambda col: col.fillna(col.mean())\n",
    "# Fill the mean\n",
    "fill_df = num_vars.apply(fill_mean, axis = 0)\n",
    "X = fill_df[['weekly_price','monthly_price']]\n",
    "y = fill_df['price']\n",
    "X_train, X_test, y_train, y_test = train_test_split(X, y, test_size = .30, random_state=42)\n",
    "lm_model = LinearRegression(normalize=True)\n",
    "lm_model.fit(X_train, y_train)\n",
    "y_test_preds = lm_model.predict(X_test)\n",
    "r2_test = r2_score(y_test, y_test_preds)\n",
    "print(r2_test)"
   ]
  },
  {
   "cell_type": "code",
   "execution_count": 20,
   "metadata": {},
   "outputs": [
    {
     "name": "stdout",
     "output_type": "stream",
     "text": [
      "0.36393940886893106\n",
      "After test\n",
      "0.406152320077684\n"
     ]
    }
   ],
   "source": [
    "#Only use price variables\n",
    "num_vars = listings_df[['price','weekly_price','monthly_price']]\n",
    "# Mean function \n",
    "fill_mean = lambda col: col.fillna(col.mean())\n",
    "# Fill the mean\n",
    "fill_df = num_vars.apply(fill_mean, axis = 0)\n",
    "X = fill_df[['weekly_price','monthly_price']]\n",
    "y = fill_df['price']\n",
    "#split the data into train and test\n",
    "X_train, X_test, y_train, y_test = train_test_split(X, y, test_size = .30, random_state=42)\n",
    "#Instantiate\n",
    "lm_model = LinearRegression(normalize=True)\n",
    "#Fit\n",
    "lm_model.fit(X_train, y_train)\n",
    "#Predict using your model\n",
    "y_test_preds = lm_model.predict(X_test)\n",
    "y_train_preds = lm_model.predict(X_train)\n",
    "#Score using your model\n",
    "r2_price_test = r2_score(y_test, y_test_preds)\n",
    "r2_price_train = r2_score(y_train, y_train_preds)\n",
    "print(r2_price_test)\n",
    "print(\"After test\")\n",
    "print(r2_price_train)"
   ]
  },
  {
   "cell_type": "code",
   "execution_count": 19,
   "metadata": {},
   "outputs": [
    {
     "data": {
      "text/plain": [
       "3"
      ]
     },
     "execution_count": 19,
     "metadata": {},
     "output_type": "execute_result"
    }
   ],
   "source": [
    "fill_df.shape[1]"
   ]
  }
 ],
 "metadata": {
  "kernelspec": {
   "display_name": "Python 3",
   "language": "python",
   "name": "python3"
  },
  "language_info": {
   "codemirror_mode": {
    "name": "ipython",
    "version": 3
   },
   "file_extension": ".py",
   "mimetype": "text/x-python",
   "name": "python",
   "nbconvert_exporter": "python",
   "pygments_lexer": "ipython3",
   "version": "3.8.3"
  }
 },
 "nbformat": 4,
 "nbformat_minor": 4
}
