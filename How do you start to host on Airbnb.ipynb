{
 "cells": [
  {
   "cell_type": "code",
   "execution_count": 34,
   "metadata": {},
   "outputs": [],
   "source": [
    "import numpy as np\n",
    "import pandas as pd\n",
    "import matplotlib.pyplot as plt\n",
    "import seaborn as sns\n",
    "from sklearn.linear_model import LinearRegression\n",
    "from sklearn.model_selection import train_test_split\n",
    "from sklearn.metrics import r2_score\n",
    "%matplotlib inline"
   ]
  },
  {
   "cell_type": "code",
   "execution_count": 35,
   "metadata": {},
   "outputs": [],
   "source": [
    "def sum_columns_values(dataframe_name):\n",
    "    sum_columns_value = dataframe_name.sum(axis=0)\n",
    "    return sum_columns_value"
   ]
  },
  {
   "cell_type": "code",
   "execution_count": 36,
   "metadata": {},
   "outputs": [],
   "source": [
    "def sum_row_values(dataframe_name):\n",
    "    sum_row_values = dataframe_name.sum(axis=1)\n",
    "    return sum_row_values"
   ]
  },
  {
   "cell_type": "code",
   "execution_count": 37,
   "metadata": {},
   "outputs": [],
   "source": [
    "listings_df = pd.read_csv(\"./listings.csv\")"
   ]
  },
  {
   "cell_type": "code",
   "execution_count": 38,
   "metadata": {},
   "outputs": [],
   "source": [
    "room_type_set = set(listings_df['room_type'])"
   ]
  },
  {
   "cell_type": "code",
   "execution_count": 39,
   "metadata": {},
   "outputs": [],
   "source": [
    "entire_home_df = listings_df.query(\"room_type=='Entire home/apt'\")['reviews_per_month']"
   ]
  },
  {
   "cell_type": "code",
   "execution_count": 40,
   "metadata": {},
   "outputs": [],
   "source": [
    "private_home_df = listings_df.query(\"room_type=='Private room'\")['reviews_per_month']"
   ]
  },
  {
   "cell_type": "code",
   "execution_count": 41,
   "metadata": {},
   "outputs": [],
   "source": [
    "shared_home_df = listings_df.query(\"room_type=='Shared room'\")['reviews_per_month']"
   ]
  },
  {
   "cell_type": "markdown",
   "metadata": {},
   "source": [
    "1. How do you start to host on Airbnb?"
   ]
  },
  {
   "cell_type": "code",
   "execution_count": 42,
   "metadata": {},
   "outputs": [
    {
     "data": {
      "image/png": "[encoded data removed]",
      "text/plain": [
       "<Figure size 1080x360 with 1 Axes>"
      ]
     },
     "metadata": {
      "needs_background": "light"
     },
     "output_type": "display_data"
    }
   ],
   "source": [
    "#Make a plot by room_type with their total review count\n",
    "plt.figure(figsize=(15,5))\n",
    "plt.subplot(132)\n",
    "plt.xlabel('Room type')\n",
    "plt.ylabel('Total Review Count')\n",
    "list_room_type_df = ['Entire home/apt','Private room','Shared room']\n",
    "list_reviews_total = [sum_columns_values(entire_home_df),\n",
    "                      sum_columns_values(private_home_df),\n",
    "                      sum_columns_values(shared_home_df)]\n",
    "plt.bar(list_room_type_df,list_reviews_total)\n",
    "plt.show()"
   ]
  }
 ],
 "metadata": {
  "kernelspec": {
   "display_name": "Python 3",
   "language": "python",
   "name": "python3"
  },
  "language_info": {
   "codemirror_mode": {
    "name": "ipython",
    "version": 3
   },
   "file_extension": ".py",
   "mimetype": "text/x-python",
   "name": "python",
   "nbconvert_exporter": "python",
   "pygments_lexer": "ipython3",
   "version": "3.8.3"
  }
 },
 "nbformat": 4,
 "nbformat_minor": 4
}
